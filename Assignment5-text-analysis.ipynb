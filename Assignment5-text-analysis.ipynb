{
 "cells": [
  {
   "cell_type": "markdown",
   "metadata": {},
   "source": [
    "# Assignment 5 - Text Analysis\n",
    "An explanation this assignment could be found in the .pdf explanation document"
   ]
  },
  {
   "cell_type": "markdown",
   "metadata": {},
   "source": [
    "\n",
    "## Materials to review for this assignment\n",
    "<h4>From Moodle:</h4> \n",
    "<h5><u>Review the notebooks regarding the following python topics</u>:</h5>\n",
    "<div class=\"alert alert-info\">\n",
    "&#x2714; <b>Working with strings</b> (tutorial notebook)<br/>\n",
    "&#x2714; <b>Text Analysis</b> (tutorial notebook)<br/>\n",
    "&#x2714; <b>Hebrew text analysis tools (tokenizer, wordnet)</b> (moodle example)<br/>\n",
    "&#x2714; <b>(brief review) All previous notebooks</b><br/>\n",
    "</div> \n",
    "<h5><u>Review the presentations regarding the following topics</u>:</h5>\n",
    "<div class=\"alert alert-info\">\n",
    "&#x2714; <b>Text Analysis</b> (lecture presentation)<br/>\n",
    "&#x2714; <b>(brief review) All other presentations</b><br/>\n",
    "</div>"
   ]
  },
  {
   "cell_type": "markdown",
   "metadata": {},
   "source": [
    "## Preceding Step - import modules (packages)\n",
    "This step is necessary in order to use external modules (packages). <br/>"
   ]
  },
  {
   "cell_type": "code",
   "execution_count": 1,
   "metadata": {},
   "outputs": [],
   "source": [
    "# --------------------------------------\n",
    "import pandas as pd\n",
    "import numpy as np\n",
    "# --------------------------------------\n",
    "\n",
    "\n",
    "# --------------------------------------\n",
    "# ------------- visualizations:\n",
    "import seaborn as sns\n",
    "import matplotlib.pyplot as plt\n",
    "from matplotlib.colors import ListedColormap\n",
    "# --------------------------------------\n",
    "\n",
    "\n",
    "# ---------------------------------------\n",
    "import sklearn\n",
    "from sklearn import preprocessing, metrics, pipeline, model_selection, feature_extraction \n",
    "from sklearn import naive_bayes, linear_model, svm, neural_network, neighbors, tree\n",
    "from sklearn import decomposition, cluster\n",
    "\n",
    "from sklearn.model_selection import train_test_split, cross_val_score, GridSearchCV \n",
    "from sklearn.pipeline import Pipeline\n",
    "from sklearn.metrics import accuracy_score, confusion_matrix\n",
    "from sklearn.metrics import precision_score, recall_score, f1_score\n",
    "from sklearn.metrics import mean_squared_error, r2_score, silhouette_score\n",
    "from sklearn.preprocessing import MinMaxScaler, StandardScaler, LabelEncoder\n",
    "\n",
    "from sklearn.svm import LinearSVC\n",
    "from sklearn.neural_network import MLPClassifier\n",
    "from sklearn.linear_model import Perceptron, SGDClassifier\n",
    "from sklearn.decomposition import PCA\n",
    "from sklearn.cluster import KMeans\n",
    "from sklearn.naive_bayes import MultinomialNB, GaussianNB\n",
    "from sklearn.neighbors import KNeighborsClassifier\n",
    "from sklearn.tree import DecisionTreeClassifier\n",
    "# ---------------------------------------\n",
    "\n",
    "from sklearn.feature_selection import SelectKBest, chi2 ,mutual_info_classif\n",
    "from sklearn.svm import SVC \n",
    "from numpy import mean ,std\n",
    "from sklearn.model_selection import  cross_validate ,RepeatedKFold , RepeatedStratifiedKFold\n",
    "from sklearn.linear_model import LogisticRegression\n",
    "from matplotlib import pyplot\n",
    "from sklearn.ensemble import StackingClassifier ,AdaBoostClassifier , BaggingClassifier\n",
    "\n",
    "# ----------------- output and visualizations: \n",
    "import warnings\n",
    "from sklearn.exceptions import ConvergenceWarning\n",
    "warnings.simplefilter(\"ignore\")\n",
    "warnings.simplefilter(action='ignore', category=FutureWarning)\n",
    "warnings.simplefilter(\"ignore\", category=ConvergenceWarning)\n",
    "# show several prints in one cell. This will allow us to condence every trick in one cell.\n",
    "from IPython.core.interactiveshell import InteractiveShell\n",
    "InteractiveShell.ast_node_interactivity = \"all\"\n",
    "%matplotlib inline\n",
    "pd.pandas.set_option('display.max_columns', None)\n",
    "pd.set_option('display.float_format', lambda x: '%.3f' % x)\n",
    "# ---------------------------------------"
   ]
  },
  {
   "cell_type": "markdown",
   "metadata": {},
   "source": [
    "### Text analysis and String manipulation imports:"
   ]
  },
  {
   "cell_type": "code",
   "execution_count": 2,
   "metadata": {},
   "outputs": [],
   "source": [
    "# --------------------------------------\n",
    "# --------- Text analysis and Hebrew text analysis imports:\n",
    "# vectorizers:\n",
    "from sklearn.feature_extraction import text\n",
    "from sklearn.feature_extraction.text import CountVectorizer, TfidfVectorizer\n",
    "\n",
    "# regular expressions:\n",
    "import re\n",
    "# --------------------------------------"
   ]
  },
  {
   "cell_type": "markdown",
   "metadata": {},
   "source": [
    "### (optional) Hebrew text analysis - WordNet (for Hebrew)\n",
    "Note: the WordNet is not a must"
   ]
  },
  {
   "cell_type": "markdown",
   "metadata": {},
   "source": [
    "#### (optional) Only if you didn't install Wordnet (for Hebrew) use:"
   ]
  },
  {
   "cell_type": "code",
   "execution_count": 3,
   "metadata": {},
   "outputs": [],
   "source": [
    "# word net installation:\n",
    "\n",
    "# unmark if you want to use and need to install\n",
    "# !pip install wn\n",
    "# !python -m wn download omw-he:1.4"
   ]
  },
  {
   "cell_type": "code",
   "execution_count": 4,
   "metadata": {},
   "outputs": [],
   "source": [
    "# word net import:\n",
    "\n",
    "# unmark if you want to use:\n",
    "# import wn"
   ]
  },
  {
   "cell_type": "markdown",
   "metadata": {},
   "source": [
    "### (optional) Hebrew text analysis - hebrew_tokenizer (Tokenizer for Hebrew)\n",
    "Note: the hebrew_tokenizer is not a must"
   ]
  },
  {
   "cell_type": "markdown",
   "metadata": {},
   "source": [
    "#### (optional) Only if you didn't install hebrew_tokenizer use:"
   ]
  },
  {
   "cell_type": "code",
   "execution_count": 5,
   "metadata": {},
   "outputs": [],
   "source": [
    "# Hebrew tokenizer installation:\n",
    "\n",
    "# unmark if you want to use and need to install:\n",
    "# !pip install hebrew_tokenizer"
   ]
  },
  {
   "cell_type": "code",
   "execution_count": 6,
   "metadata": {},
   "outputs": [
    {
     "name": "stdout",
     "output_type": "stream",
     "text": [
      "C:\\Users\\yoavl\\assignment5-text_analysis\n"
     ]
    }
   ],
   "source": [
    "# Hebrew tokenizer import:\n",
    "\n",
    "# unmark if you want to use:\n",
    "import hebrew_tokenizer as ht\n"
   ]
  },
  {
   "cell_type": "markdown",
   "metadata": {},
   "source": [
    "### Reading input files\n",
    "Reading input files for train annotated corpus (raw text data) corpus and for the test corpus"
   ]
  },
  {
   "cell_type": "code",
   "execution_count": 7,
   "metadata": {},
   "outputs": [],
   "source": [
    "train_filename = 'annotated_corpus_for_train.csv'\n",
    "test_filename  = 'corpus_for_test.csv'\n",
    "df_train = pd.read_csv(train_filename, index_col=None, encoding='utf-8')\n",
    "df_test  = pd.read_csv(test_filename, index_col=None, encoding='utf-8')"
   ]
  },
  {
   "cell_type": "code",
   "execution_count": 8,
   "metadata": {},
   "outputs": [
    {
     "data": {
      "text/plain": [
       "m    575\n",
       "f    178\n",
       "Name: gender, dtype: int64"
      ]
     },
     "execution_count": 8,
     "metadata": {},
     "output_type": "execute_result"
    }
   ],
   "source": [
    "# sums = np.array(X_train_vect.sum(axis=0))[0]\n",
    "# feature_counts = dict(zip(vectorizer.get_feature_names(), sums))\n",
    "# d = {}\n",
    "# for feature, count in list(feature_counts.items()):\n",
    "#     d[feature] = count\n",
    "# r = sorted(d.items(), key=lambda x: x[1], reverse=True)\n",
    "df_train['gender'].value_counts()"
   ]
  },
  {
   "cell_type": "markdown",
   "metadata": {},
   "source": [
    "### Your implementation:\n",
    "Write your code solution in the following code-cells"
   ]
  },
  {
   "cell_type": "code",
   "execution_count": 9,
   "metadata": {},
   "outputs": [],
   "source": [
    "def clean_text(text):\n",
    "    # Remove numbers , spaces and leading and trailing spaces\n",
    "    text = re.sub(r'\\d+', '', text)\n",
    "    text = re.sub(r'[^\\w\\s]', '', text)\n",
    "    text = re.sub(r'\\s+', ' ', text)\n",
    "    text = text.strip()\n",
    "    return text\n",
    "\n",
    "def set_up(vectorizer = 'TfidfVectorizer' , ngram_range = (1,1) ,min_df = 5 , k =1000 , test = False ):\n",
    "    if test:\n",
    "        test_filename = 'corpus_for_test.csv'\n",
    "        df = pd.read_csv(test_filename, index_col=None, encoding='utf-8')\n",
    "        df['story'] = df['story'].apply(clean_text)\n",
    "        vectorizer = TfidfVectorizer(min_df=min_df, ngram_range=ngram_range)\n",
    "\n",
    "        X_test = df['story']\n",
    "        X_test_vect = vectorizer.fit_transform(X_test)\n",
    "        selector = SelectKBest(mutual_info_classif, k=k)\n",
    "    \n",
    "        X_test_selected = selector.fit_transform(X_test_vect, np.zeros(X_test_vect.shape[0]))\n",
    "\n",
    "        scaler = MinMaxScaler()\n",
    "\n",
    "        X_test_scaled = scaler.fit_transform(X_test_selected.toarray())\n",
    "        return df['story'], X_test_scaled\n",
    "        \n",
    "    train_filename = 'annotated_corpus_for_train.csv'\n",
    "    df = pd.read_csv(train_filename, index_col=None, encoding='utf-8')\n",
    "        \n",
    "    df['story'] = df['story'].apply(clean_text)\n",
    "    \n",
    "    X_train, X_test, y_train, y_test = train_test_split(df['story'], df['gender'], test_size=0.2, random_state=42)\n",
    "\n",
    "    # Vectorize the text data using TF-IDF  \n",
    "    if vectorizer == 'TfidfVectorizer':\n",
    "        vectorizer = TfidfVectorizer(min_df= min_df ,ngram_range= ngram_range)\n",
    "    \n",
    "    if vectorizer == 'CountVectorizer':\n",
    "        vectorizer = CountVectorizer(min_df= min_df)\n",
    "        \n",
    "    X_train_vect = vectorizer.fit_transform(X_train)\n",
    "    X_test_vect = vectorizer.transform(X_test)\n",
    "\n",
    "    # Perform feature selection using mutual information\n",
    "    selector = SelectKBest(mutual_info_classif, k=k) # chi2 # mutual_info_classif\n",
    "    selector.fit(X_train_vect, y_train)\n",
    "\n",
    "    # Apply feature selection to the vectorized data\n",
    "    X_train_selected = selector.transform(X_train_vect)\n",
    "    X_test_selected = selector.transform(X_test_vect)\n",
    "    \n",
    "    scaler = MinMaxScaler()\n",
    "    \n",
    "    X_train_scaled = scaler.fit_transform(X_train_selected.toarray())\n",
    "    X_test_scaled = scaler.transform(X_test_selected.toarray())\n",
    "    \n",
    "    return X_train_scaled , X_test_scaled , X_train, X_test, y_train, y_test\n",
    "\n"
   ]
  },
  {
   "cell_type": "code",
   "execution_count": 10,
   "metadata": {},
   "outputs": [
    {
     "name": "stdout",
     "output_type": "stream",
     "text": [
      "LogisticRegression(C=1)\n",
      ">lr Accuracy: 0.759 (0.094)\n",
      "F1 Score (female): 0.444\n",
      "F1 Score (male): 0.879\n",
      "F1 Score **(average_f1)**: 0.662\n",
      "\n",
      "\n",
      "\n",
      "KNeighborsClassifier(weights='distance')\n",
      ">knn Accuracy: 0.753 (0.091)\n",
      "F1 Score (female): 0.000\n",
      "F1 Score (male): 0.860\n",
      "F1 Score **(average_f1)**: 0.430\n",
      "\n",
      "\n",
      "\n",
      "DecisionTreeClassifier(criterion='entropy', max_depth=3)\n",
      ">cart Accuracy: 0.686 (0.097)\n",
      "F1 Score (female): 0.423\n",
      "F1 Score (male): 0.880\n",
      "F1 Score **(average_f1)**: 0.652\n",
      "\n",
      "\n",
      "\n",
      "SVC(C=0.1, kernel='linear')\n",
      ">svm Accuracy: 0.766 (0.097)\n",
      "F1 Score (female): 0.456\n",
      "F1 Score (male): 0.873\n",
      "F1 Score **(average_f1)**: 0.665\n",
      "\n",
      "\n",
      "\n",
      "LinearSVC(C=1, dual=False)\n",
      ">LinearSVC Accuracy: 0.771 (0.094)\n",
      "F1 Score (female): 0.478\n",
      "F1 Score (male): 0.851\n",
      "F1 Score **(average_f1)**: 0.664\n",
      "\n",
      "\n",
      "\n",
      "MLPClassifier(activation='tanh', alpha=0.05, hidden_layer_sizes=(50, 50, 50))\n",
      ">MLPClassifier Accuracy: 0.750 (0.099)\n",
      "F1 Score (female): 0.515\n",
      "F1 Score (male): 0.864\n",
      "F1 Score **(average_f1)**: 0.690\n",
      "\n",
      "\n",
      "\n",
      "Perceptron()\n",
      ">Perceptron Accuracy: 0.771 (0.109)\n",
      "F1 Score (female): 0.629\n",
      "F1 Score (male): 0.888\n",
      "F1 Score **(average_f1)**: 0.758\n",
      "\n",
      "\n",
      "\n",
      "SGDClassifier()\n",
      ">SGDClassifier Accuracy: 0.757 (0.088)\n",
      "F1 Score (female): 0.521\n",
      "F1 Score (male): 0.847\n",
      "F1 Score **(average_f1)**: 0.684\n",
      "\n",
      "\n",
      "\n",
      "StackingClassifier(cv=5,\n",
      "                   estimators=[('lr_bagging',\n",
      "                                BaggingClassifier(base_estimator=LogisticRegression(C=1),\n",
      "                                                  max_samples=0.8,\n",
      "                                                  n_estimators=100)),\n",
      "                               ('knn_bagging',\n",
      "                                BaggingClassifier(base_estimator=KNeighborsClassifier(weights='distance'),\n",
      "                                                  max_samples=0.8,\n",
      "                                                  n_estimators=100)),\n",
      "                               ('cart_bagging',\n",
      "                                BaggingClassifier(base_estimator=DecisionTreeClassifier(criterion='e...\n",
      "                                BaggingClassifier(base_estimator=LinearSVC(C=1,\n",
      "                                                                           dual=False),\n",
      "                                                  max_samples=0.8,\n",
      "                                                  n_estimators=100)),\n",
      "                               ('SGDClassifier_bagging',\n",
      "                                BaggingClassifier(base_estimator=SGDClassifier(),\n",
      "                                                  max_samples=0.8,\n",
      "                                                  n_estimators=100)),\n",
      "                               ('MLPClassifier',\n",
      "                                MLPClassifier(activation='tanh', alpha=0.05,\n",
      "                                              hidden_layer_sizes=(50, 50, 50))),\n",
      "                               ('Perceptron', Perceptron())],\n",
      "                   final_estimator=LogisticRegression(C=1))\n",
      ">stacking Accuracy: 0.746 (0.090)\n",
      "F1 Score (female): 0.552\n",
      "F1 Score (male): 0.893\n",
      "F1 Score **(average_f1)**: 0.723\n",
      "\n",
      "\n",
      "\n"
     ]
    },
    {
     "data": {
      "image/png": "[encoded data removed]",
      "text/plain": [
       "<Figure size 864x576 with 1 Axes>"
      ]
     },
     "metadata": {
      "needs_background": "light"
     },
     "output_type": "display_data"
    }
   ],
   "source": [
    "def get_models(params):\n",
    "    models = dict()\n",
    "    models['lr'] = LogisticRegression(**params['lr'])\n",
    "    models['knn'] = KNeighborsClassifier(**params['knn'])\n",
    "    models['cart'] = DecisionTreeClassifier(**params['cart'])\n",
    "    models['svm'] = SVC(**params['svm'])\n",
    "    models['LinearSVC'] = LinearSVC(**params['LinearSVC'])\n",
    "    models['MLPClassifier'] = MLPClassifier(**params['MLPClassifier'])\n",
    "    models['Perceptron'] = Perceptron(**params['Perceptron'])\n",
    "    models['SGDClassifier'] = SGDClassifier(**params['SGDClassifier'])\n",
    "    \n",
    "    models['stacking'] = get_stacking(params)\n",
    "    return models\n",
    "\n",
    "# get a stacking ensemble of models\n",
    "def get_stacking(params):\n",
    "    # I used BaggingClassifier to optimize few models I also try to optimize with AdaBoostClassifier but \n",
    "    # BaggingClassifie get better results.\n",
    "    level0 = []\n",
    "    level0.append(('lr_bagging', BaggingClassifier(base_estimator=LogisticRegression(**params['lr']), n_estimators=100, max_samples=0.8, oob_score=False)))\n",
    "    level0.append(('knn_bagging', BaggingClassifier(base_estimator=KNeighborsClassifier(**params['knn']), n_estimators=100, max_samples=0.8, oob_score=False)))\n",
    "    level0.append(('cart_bagging', BaggingClassifier(base_estimator=DecisionTreeClassifier(**params['cart']), n_estimators=100, max_samples=0.8, oob_score=False)))\n",
    "    level0.append(('svm_bagging', BaggingClassifier(base_estimator=SVC(**params['svm']), n_estimators=100, max_samples=0.8, oob_score=False)))\n",
    "    level0.append(('LinearSVC_bagging', BaggingClassifier(base_estimator=LinearSVC(**params['LinearSVC']), n_estimators=100, max_samples=0.8, oob_score=False)))\n",
    "#     level0.append(('MLPClassifier_bagging', BaggingClassifier(base_estimator=MLPClassifier(**params['MLPClassifier']), n_estimators=100, max_samples=0.8, oob_score=False)))\n",
    "#     level0.append(('Perceptron_bagging', BaggingClassifier(base_estimator=Perceptron(**params['Perceptron']), n_estimators=100, max_samples=0.8, oob_score=False)))\n",
    "    level0.append(('SGDClassifier_bagging', BaggingClassifier(base_estimator=SGDClassifier(**params['SGDClassifier']), n_estimators=100, max_samples=0.8, oob_score=False)))\n",
    "    \n",
    "#     level0.append(('lr', LogisticRegression(**params['lr'])))\n",
    "#     level0.append(('knn', KNeighborsClassifier(**params['knn'])))\n",
    "#     level0.append(('cart', DecisionTreeClassifier(**params['cart'])))\n",
    "#     level0.append(('svm', SVC(**params['svm'])))\n",
    "    \n",
    "#     level0.append(('LinearSVC', LinearSVC(**params['LinearSVC'])))\n",
    "    level0.append(('MLPClassifier', MLPClassifier(**params['MLPClassifier'])))\n",
    "    level0.append(('Perceptron', Perceptron(**params['Perceptron'])))\n",
    "#     level0.append(('SGDClassifier', SGDClassifier(**params['SGDClassifier'])))\n",
    "    \n",
    "    \n",
    "#     level0.append(('boosting', AdaBoostClassifier(base_estimator=DecisionTreeClassifier(**params['cart']), n_estimators=100)))\n",
    "    \n",
    "    level1 = LogisticRegression(**params['lr'])\n",
    "    model = StackingClassifier(estimators=level0, final_estimator=level1, cv=5)\n",
    "    return model \n",
    "\n",
    "def find_best_params(models , X_train_selected ,y_train ):\n",
    "    best_params = {}\n",
    "    for name, model in models.items():\n",
    "        print(\"Tuning\", name)\n",
    "        clf = GridSearchCV(model, params[name], cv=5, n_jobs=-1)\n",
    "        clf.fit(X_train_selected, y_train)\n",
    "        best_params[name] = clf.best_params_\n",
    "#         print(\"Best parameters:\", best_params[name])\n",
    "        \n",
    "    return best_params\n",
    "\n",
    "# evaluate each model using cross-validation and diffrent params \n",
    "def evaluate_model(model,X_train_selected, X_test_selected  ,y_train, y_test):\n",
    "    model_train = model.fit(X_train_selected , y_train)\n",
    "\n",
    "    cv = RepeatedKFold(n_splits=5, n_repeats=3, random_state=42)\n",
    "    scores = cross_val_score(model_train, X_test_selected, y_test, scoring='accuracy', cv=cv, n_jobs=-1  )\n",
    "\n",
    "    y_pred = model_train.predict(X_test_selected)\n",
    "    print(model_train)\n",
    "    \n",
    "    f1_male = f1_score(y_test, y_pred, pos_label='m')\n",
    "    f1_female = f1_score(y_test, y_pred, pos_label='f')\n",
    "    average_f1=(f1_male + f1_female)/2\n",
    "    \n",
    "    conf_mat = confusion_matrix(y_test, y_pred)\n",
    "\n",
    "    return {'Accuracy': {'mean': mean(scores),'std': std(scores)},\n",
    "            'F1 Score (male)': f1_male,\n",
    "            'F1 Score (female)': f1_female,\n",
    "            'Confusion Matrix': conf_mat,\n",
    "            'scores':scores ,\n",
    "            'y_pred':y_pred,\n",
    "            'average_f1':average_f1,\n",
    "            'model':model_train}\n",
    "\n",
    "\n",
    "\n",
    "params = {'lr': {'C': [0.01, 0.1, 1, 10, 100], 'penalty': ['l1', 'l2']},\n",
    "          'knn': {'n_neighbors': [3, 5, 7], 'weights': ['uniform', 'distance']},\n",
    "          'cart': {'max_depth': [3, 5, 7], 'criterion': ['gini', 'entropy']},\n",
    "          'svm': {'C': [0.01, 0.1, 1, 10, 100], 'kernel': ['linear', 'rbf']},\n",
    "          'LinearSVC': {'C': [0.01, 0.1, 1, 10, 100], 'penalty': ['l1', 'l2'], 'dual': [False]},\n",
    "          'MLPClassifier': {'hidden_layer_sizes': [(50,50,50), (50,100,50), (100,)],\n",
    "                            'activation': ['tanh', 'relu'],\n",
    "                            'solver': ['sgd', 'adam'],\n",
    "                            'alpha': [0.0001, 0.05],\n",
    "                            'learning_rate': ['constant','adaptive']},\n",
    "          'Perceptron': {'alpha': [0.0001, 0.05], 'penalty': [None, 'l2', 'l1', 'elasticnet']},\n",
    "          'SGDClassifier': {'loss': ['hinge', 'log', 'modified_huber', 'squared_hinge', 'perceptron'],\n",
    "                            'penalty': ['l2', 'l1', 'elasticnet'],\n",
    "                            'alpha': [0.0001, 0.05]} }\n",
    "\n",
    "\n",
    "models_list = {'lr': LogisticRegression(),\n",
    "            'knn': KNeighborsClassifier(),\n",
    "            'cart': DecisionTreeClassifier(),\n",
    "            'svm': SVC(),\n",
    "            'LinearSVC':LinearSVC(),\n",
    "            'MLPClassifier':MLPClassifier(),\n",
    "            'Perceptron':Perceptron(),\n",
    "            'SGDClassifier':SGDClassifier()}\n",
    "\n",
    "X_train_selected , X_test_selected , X_train, X_test, y_train, y_test = set_up(ngram_range = (1,1))\n",
    "\n",
    "best_params = find_best_params(models_list , X_train_selected ,y_train )\n",
    "\n",
    "# best_params = {'lr': {'C': 1, 'penalty': 'l2'},\n",
    "#  'knn': {'n_neighbors': 5, 'weights': 'distance'},\n",
    "#  'cart': {'criterion': 'entropy', 'max_depth': 3},\n",
    "#  'svm': {'C': 0.1, 'kernel': 'linear'},\n",
    "#  'LinearSVC': {'C': 1, 'dual': False, 'penalty': 'l2'},\n",
    "#  'MLPClassifier': {'activation': 'tanh',\n",
    "#   'alpha': 0.05,\n",
    "#   'hidden_layer_sizes': (50, 50, 50),\n",
    "#   'learning_rate': 'constant',\n",
    "#   'solver': 'adam'},\n",
    "#  'Perceptron': {'alpha': 0.0001, 'penalty': None},\n",
    "#  'SGDClassifier': {'alpha': 0.0001, 'loss': 'hinge', 'penalty': 'l2'}}\n",
    "\n",
    "models = get_models(best_params)\n",
    "conf_mat = []\n",
    "\n",
    "# evaluate the models and store results\n",
    "results, names = list(), list()\n",
    "y_pred = []\n",
    "score = {}\n",
    "for name, model in models.items():\n",
    "    scores = evaluate_model(model, X_train_selected, X_test_selected, y_train, y_test)\n",
    "#     results.append(scores['Accuracy']['mean'])\n",
    "    results.append(scores['scores'])\n",
    "    names.append(name)\n",
    "    score[name] = scores\n",
    "    y_pred.append(scores['y_pred'])\n",
    "    print('>%s Accuracy: %.3f (%.3f)' % (name, scores['Accuracy']['mean'], scores['Accuracy']['std']))\n",
    "    print('F1 Score (female): %.3f' % (scores['F1 Score (female)']))\n",
    "    print('F1 Score (male): %.3f' % (scores['F1 Score (male)']))\n",
    "    print('F1 Score **(average_f1)**: %.3f\\n\\n\\n' % (scores['average_f1']))\n",
    "    \n",
    "    \n",
    "# plot model performance for comparison\n",
    "def resulst_plot(results , names):\n",
    "    pyplot.figure(figsize=(12,8))\n",
    "    pyplot.boxplot(results, labels=names, showmeans=True)\n",
    "    pyplot.show()\n",
    "    \n",
    "resulst_plot(results , names)\n",
    "\n",
    "# resulst = pd.DataFrame({'story': X_test, 'gender': y_test, 'predicted gender': y_pred[-1]})\n",
    "# resulst.loc[10:30]"
   ]
  },
  {
   "cell_type": "code",
   "execution_count": 11,
   "metadata": {
    "scrolled": false
   },
   "outputs": [
    {
     "data": {
      "image/png": "[encoded data removed]",
      "text/plain": [
       "<Figure size 288x144 with 1 Axes>"
      ]
     },
     "metadata": {
      "needs_background": "light"
     },
     "output_type": "display_data"
    },
    {
     "data": {
      "image/png": "[encoded data removed]",
      "text/plain": [
       "<Figure size 288x144 with 1 Axes>"
      ]
     },
     "metadata": {
      "needs_background": "light"
     },
     "output_type": "display_data"
    },
    {
     "data": {
      "image/png": "[encoded data removed]",
      "text/plain": [
       "<Figure size 288x144 with 1 Axes>"
      ]
     },
     "metadata": {
      "needs_background": "light"
     },
     "output_type": "display_data"
    },
    {
     "data": {
      "image/png": "[encoded data removed]",
      "text/plain": [
       "<Figure size 288x144 with 1 Axes>"
      ]
     },
     "metadata": {
      "needs_background": "light"
     },
     "output_type": "display_data"
    },
    {
     "data": {
      "image/png": "[encoded data removed]",
      "text/plain": [
       "<Figure size 288x144 with 1 Axes>"
      ]
     },
     "metadata": {
      "needs_background": "light"
     },
     "output_type": "display_data"
    },
    {
     "data": {
      "image/png": "[encoded data removed]",
      "text/plain": [
       "<Figure size 288x144 with 1 Axes>"
      ]
     },
     "metadata": {
      "needs_background": "light"
     },
     "output_type": "display_data"
    },
    {
     "data": {
      "image/png": "[encoded data removed]",
      "text/plain": [
       "<Figure size 288x144 with 1 Axes>"
      ]
     },
     "metadata": {
      "needs_background": "light"
     },
     "output_type": "display_data"
    },
    {
     "data": {
      "image/png": "[encoded data removed]",
      "text/plain": [
       "<Figure size 288x144 with 1 Axes>"
      ]
     },
     "metadata": {
      "needs_background": "light"
     },
     "output_type": "display_data"
    },
    {
     "data": {
      "image/png": "[encoded data removed]",
      "text/plain": [
       "<Figure size 288x144 with 1 Axes>"
      ]
     },
     "metadata": {
      "needs_background": "light"
     },
     "output_type": "display_data"
    }
   ],
   "source": [
    "def plot_confusion_matrix(score):\n",
    "    for mod in score:\n",
    "        fig, ax = plt.subplots(figsize=(4, 2))\n",
    "\n",
    "        sns.heatmap(score[mod]['Confusion Matrix'], annot=True, fmt='g', cmap='Blues', cbar=False,\n",
    "                            annot_kws={'fontsize': 14}, ax=ax)\n",
    "        #     ax.set_xlabel('Predicted labels', fontsize=14)\n",
    "        ax.set_ylabel('True labels', fontsize=14)\n",
    "        ax.set_xticklabels(['female', 'male'], fontsize=12)\n",
    "        ax.set_yticklabels(['female', 'male'], fontsize=12)\n",
    "        ax.set_title(f\"Model: {mod}\\n\\nAverage_f1 {score[mod]['average_f1']:.2f}\", fontsize=16)\n",
    "        plt.show()\n",
    "        \n",
    "plot_confusion_matrix(score)"
   ]
  },
  {
   "cell_type": "code",
   "execution_count": 12,
   "metadata": {},
   "outputs": [],
   "source": [
    "df_test  = pd.read_csv(test_filename, index_col=None, encoding='utf-8')"
   ]
  },
  {
   "cell_type": "code",
   "execution_count": 13,
   "metadata": {},
   "outputs": [
    {
     "name": "stdout",
     "output_type": "stream",
     "text": [
      "-----Model lr------\n",
      "m    275\n",
      "f     48\n",
      "Name: predicted gender, dtype: int64\n",
      "\n",
      "\n",
      "-----Model knn------\n",
      "m    323\n",
      "Name: predicted gender, dtype: int64\n",
      "\n",
      "\n",
      "-----Model cart------\n",
      "m    286\n",
      "f     37\n",
      "Name: predicted gender, dtype: int64\n",
      "\n",
      "\n",
      "-----Model svm------\n",
      "m    291\n",
      "f     32\n",
      "Name: predicted gender, dtype: int64\n",
      "\n",
      "\n",
      "-----Model LinearSVC------\n",
      "m    187\n",
      "f    136\n",
      "Name: predicted gender, dtype: int64\n",
      "\n",
      "\n",
      "-----Model MLPClassifier------\n",
      "m    187\n",
      "f    136\n",
      "Name: predicted gender, dtype: int64\n",
      "\n",
      "\n",
      "-----Model Perceptron------\n",
      "m    187\n",
      "f    136\n",
      "Name: predicted gender, dtype: int64\n",
      "\n",
      "\n",
      "-----Model SGDClassifier------\n",
      "m    248\n",
      "f     75\n",
      "Name: predicted gender, dtype: int64\n",
      "\n",
      "\n",
      "-----Model stacking------\n",
      "m    243\n",
      "f     80\n",
      "Name: predicted gender, dtype: int64\n",
      "\n",
      "\n"
     ]
    }
   ],
   "source": [
    "data , test_data = set_up(test =True)\n",
    "\n",
    "def predict_test_data(score):\n",
    "    df_predict_dict = {}\n",
    "    for mod in score:\n",
    "        y_pred = score[mod]['model'].predict(test_data)\n",
    "        df_predict = pd.DataFrame({'story': data, 'predicted gender': y_pred})\n",
    "        print(f\"-----Model {mod}------\")\n",
    "        print(df_predict['predicted gender'].value_counts())\n",
    "        print(\"\\n\")\n",
    "        df_predict_dict[mod] = df_predict\n",
    "    return df_predict_dict\n",
    "\n",
    "        \n",
    "df_predict_dict = predict_test_data(score)\n",
    "df_predicted = df_predict_dict['stacking']"
   ]
  },
  {
   "cell_type": "markdown",
   "metadata": {},
   "source": [
    "### Save output to csv (optional)\n",
    "After you're done save your output to the 'classification_results.csv' csv file.<br/>\n",
    "We assume that the dataframe with your results contain the following columns:\n",
    "* column 1 (left column): 'test_example_id'  - the same id associated to each of the test stories to be predicted.\n",
    "* column 2 (right column): 'predicted_category' - the predicted gender value for each of the associated story. \n",
    "\n",
    "Assuming your predicted values are in the `df_predicted` dataframe, you should save you're results as following:"
   ]
  },
  {
   "cell_type": "code",
   "execution_count": 14,
   "metadata": {},
   "outputs": [],
   "source": [
    "df_predicted.to_csv('classification_results.csv',index=False)"
   ]
  }
 ],
 "metadata": {
  "celltoolbar": "Create Assignment",
  "kernelspec": {
   "display_name": "Python 3",
   "language": "python",
   "name": "python3"
  },
  "language_info": {
   "codemirror_mode": {
    "name": "ipython",
    "version": 3
   },
   "file_extension": ".py",
   "mimetype": "text/x-python",
   "name": "python",
   "nbconvert_exporter": "python",
   "pygments_lexer": "ipython3",
   "version": "3.8.8"
  },
  "varInspector": {
   "cols": {
    "lenName": 16,
    "lenType": 16,
    "lenVar": 40
   },
   "kernels_config": {
    "python": {
     "delete_cmd_postfix": "",
     "delete_cmd_prefix": "del ",
     "library": "var_list.py",
     "varRefreshCmd": "print(var_dic_list())"
    },
    "r": {
     "delete_cmd_postfix": ") ",
     "delete_cmd_prefix": "rm(",
     "library": "var_list.r",
     "varRefreshCmd": "cat(var_dic_list()) "
    }
   },
   "types_to_exclude": [
    "module",
    "function",
    "builtin_function_or_method",
    "instance",
    "_Feature"
   ],
   "window_display": false
  }
 },
 "nbformat": 4,
 "nbformat_minor": 4
}
